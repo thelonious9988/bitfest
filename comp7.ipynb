{
 "cells": [
  {
   "cell_type": "code",
   "execution_count": 1,
   "id": "6223185e-beeb-4de3-b68f-29d796977ee6",
   "metadata": {},
   "outputs": [],
   "source": [
    "import pandas as pd\n",
    "import numpy as np\n",
    "from sklearn.ensemble import RandomForestRegressor\n",
    "from sklearn.model_selection import train_test_split, GridSearchCV\n",
    "from sklearn.metrics import mean_squared_error\n",
    "from sklearn.preprocessing import LabelEncoder\n",
    "from sklearn.feature_extraction.text import TfidfVectorizer\n"
   ]
  },
  {
   "cell_type": "markdown",
   "id": "fc01b077-4446-484c-81b8-b219c6d9a6ba",
   "metadata": {},
   "source": [
    "load dataset"
   ]
  },
  {
   "cell_type": "code",
   "execution_count": 3,
   "id": "9af9ec57-deca-47ec-bda6-1128a3cc94c2",
   "metadata": {},
   "outputs": [],
   "source": [
    "train_data = pd.read_csv('train.csv')\n",
    "test_data = pd.read_csv('test.csv')\n"
   ]
  },
  {
   "cell_type": "code",
   "execution_count": 6,
   "id": "ddaa4998-a344-4999-b625-efaa6f4abca5",
   "metadata": {},
   "outputs": [],
   "source": [
    "test_ids = test_data['ID']"
   ]
  },
  {
   "cell_type": "code",
   "execution_count": 8,
   "id": "b7478bc6-10f2-4652-9c93-317f1c0307ed",
   "metadata": {},
   "outputs": [],
   "source": [
    "train_data.fillna('missing', inplace=True)\n",
    "test_data.fillna('missing', inplace=True)"
   ]
  },
  {
   "cell_type": "code",
   "execution_count": 10,
   "id": "753b37fc-cda7-41c7-b38f-81c9c74ef09b",
   "metadata": {},
   "outputs": [],
   "source": [
    "X = train_data.drop(columns=['matched_score'])\n",
    "y = train_data['matched_score']"
   ]
  },
  {
   "cell_type": "code",
   "execution_count": 14,
   "id": "208f5b14-8dc2-47df-899c-37a7dbe0dcbd",
   "metadata": {},
   "outputs": [],
   "source": [
    "combined_data = pd.concat([X, test_data.drop(columns=['ID'])], axis=0)"
   ]
  },
  {
   "cell_type": "code",
   "execution_count": 16,
   "id": "4768cbe1-917a-4442-bab0-3994fadf52a2",
   "metadata": {},
   "outputs": [],
   "source": [
    "tfidf = TfidfVectorizer(max_features=100, stop_words='english')\n",
    "skills_tfidf = tfidf.fit_transform(combined_data['skills'].fillna('missing')).toarray()\n"
   ]
  },
  {
   "cell_type": "code",
   "execution_count": 18,
   "id": "56cf77a1-b2bd-4ae5-9f3c-4e99c96bd4c2",
   "metadata": {},
   "outputs": [],
   "source": [
    "tfidf_df = pd.DataFrame(skills_tfidf, columns=[f'skill_{i}' for i in range(skills_tfidf.shape[1])])\n",
    "combined_data = pd.concat([combined_data.reset_index(drop=True), tfidf_df], axis=1)\n"
   ]
  },
  {
   "cell_type": "code",
   "execution_count": 20,
   "id": "e6bfa621-f4ec-4d5f-abf7-7c2f2512bdff",
   "metadata": {},
   "outputs": [],
   "source": [
    "combined_data.drop(columns=['skills'], inplace=True)"
   ]
  },
  {
   "cell_type": "code",
   "execution_count": 22,
   "id": "1058acb6-8131-4098-92f1-83ac7b23c9d2",
   "metadata": {},
   "outputs": [],
   "source": [
    "label_encoders = {}\n",
    "for col in combined_data.select_dtypes(include=['object']).columns:\n",
    "    le = LabelEncoder()\n",
    "    combined_data[col] = le.fit_transform(combined_data[col])\n",
    "    label_encoders[col] = le\n"
   ]
  },
  {
   "cell_type": "code",
   "execution_count": 24,
   "id": "98efc66b-0f16-4b88-9324-f7e53d0e7cbf",
   "metadata": {},
   "outputs": [],
   "source": [
    "X = combined_data.iloc[:len(X), :]\n",
    "test_data = combined_data.iloc[len(X):, :]"
   ]
  },
  {
   "cell_type": "code",
   "execution_count": 26,
   "id": "c75ce542-189f-4e0b-95a3-bedc932adf18",
   "metadata": {},
   "outputs": [],
   "source": [
    "X_train, X_valid, y_train, y_valid = train_test_split(X, y, test_size=0.2, random_state=42)"
   ]
  },
  {
   "cell_type": "code",
   "execution_count": 30,
   "id": "1754aa38-11eb-40db-a74d-cbb75642dfad",
   "metadata": {},
   "outputs": [],
   "source": [
    "param_grid = {\n",
    "    'n_estimators': [100, 200, 300],\n",
    "    'max_depth': [None, 10, 20],\n",
    "    'min_samples_split': [2, 5, 10]\n",
    "}"
   ]
  },
  {
   "cell_type": "code",
   "execution_count": null,
   "id": "1ad9da96-648e-44f8-8dc1-849ecc7c4e8c",
   "metadata": {},
   "outputs": [],
   "source": [
    "rf = RandomForestRegressor(random_state=42)\n",
    "grid_search = GridSearchCV(rf, param_grid, cv=3, scoring='neg_mean_squared_error')\n",
    "grid_search.fit(X_train, y_train)\n",
    "\n",
    "best_model = grid_search.best_estimator_\n"
   ]
  },
  {
   "cell_type": "code",
   "execution_count": null,
   "id": "cc876747-5894-459b-9402-da707a9ff077",
   "metadata": {},
   "outputs": [],
   "source": []
  }
 ],
 "metadata": {
  "kernelspec": {
   "display_name": "Python 3 (ipykernel)",
   "language": "python",
   "name": "python3"
  },
  "language_info": {
   "codemirror_mode": {
    "name": "ipython",
    "version": 3
   },
   "file_extension": ".py",
   "mimetype": "text/x-python",
   "name": "python",
   "nbconvert_exporter": "python",
   "pygments_lexer": "ipython3",
   "version": "3.12.4"
  }
 },
 "nbformat": 4,
 "nbformat_minor": 5
}
